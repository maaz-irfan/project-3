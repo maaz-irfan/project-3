{
  "nbformat": 4,
  "nbformat_minor": 0,
  "metadata": {
    "colab": {
      "provenance": [],
      "authorship_tag": "ABX9TyNiT+N3lrY9OkFZGYPaSMW2",
      "include_colab_link": true
    },
    "kernelspec": {
      "name": "python3",
      "display_name": "Python 3"
    },
    "language_info": {
      "name": "python"
    }
  },
  "cells": [
    {
      "cell_type": "markdown",
      "metadata": {
        "id": "view-in-github",
        "colab_type": "text"
      },
      "source": [
        "<a href=\"https://colab.research.google.com/github/maaz-irfan/project-3/blob/main/project3.ipynb\" target=\"_parent\"><img src=\"https://colab.research.google.com/assets/colab-badge.svg\" alt=\"Open In Colab\"/></a>"
      ]
    },
    {
      "cell_type": "code",
      "execution_count": 15,
      "metadata": {
        "colab": {
          "base_uri": "https://localhost:8080/"
        },
        "id": "1J0DkDjI8jjt",
        "outputId": "eaa1e049-351e-419a-8de0-134bf6973518"
      },
      "outputs": [
        {
          "output_type": "stream",
          "name": "stdout",
          "text": [
            "Is 45 too high (H), too low (L), or correct (C)?? l\n",
            "Is 81 too high (H), too low (L), or correct (C)?? h\n",
            "Is 54 too high (H), too low (L), or correct (C)?? l\n",
            "Is 55 too high (H), too low (L), or correct (C)?? l\n",
            "Is 56 too high (H), too low (L), or correct (C)?? ll\n",
            "Is 80 too high (H), too low (L), or correct (C)?? c\n",
            "Yay! The computer guessed your number, 80, correctly!\n"
          ]
        }
      ],
      "source": [
        "import random\n",
        "\n",
        "def computer_guess(x):\n",
        "    low = 1\n",
        "    high = x\n",
        "    feedback = ''\n",
        "    while feedback != 'c':\n",
        "      if low != high:\n",
        "        guess = random.randint(low, high)\n",
        "      else:\n",
        "        guess = low # could also be high b/c low = high\n",
        "\n",
        "      feedback = input(f'Is {guess} too high (H), too low (L), or correct (C)?? ').lower()\n",
        "      if feedback == 'h':\n",
        "        high = guess - 1\n",
        "      elif feedback == 'l':\n",
        "        low = guess + 1\n",
        "    print(f'Yay! The computer guessed your number, {guess}, correctly!')\n",
        "\n",
        "computer_guess(100)"
      ]
    },
    {
      "cell_type": "code",
      "source": [],
      "metadata": {
        "id": "i3A1UZn7gADO"
      },
      "execution_count": null,
      "outputs": []
    }
  ]
}