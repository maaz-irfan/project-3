{
  "nbformat": 4,
  "nbformat_minor": 0,
  "metadata": {
    "colab": {
      "provenance": [],
      "authorship_tag": "ABX9TyNpamfvYBZneQ4KyvVu5w7y",
      "include_colab_link": true
    },
    "kernelspec": {
      "name": "python3",
      "display_name": "Python 3"
    },
    "language_info": {
      "name": "python"
    }
  },
  "cells": [
    {
      "cell_type": "markdown",
      "metadata": {
        "id": "view-in-github",
        "colab_type": "text"
      },
      "source": [
        "<a href=\"https://colab.research.google.com/github/maaz-irfan/project-3/blob/main/project3.ipynb\" target=\"_parent\"><img src=\"https://colab.research.google.com/assets/colab-badge.svg\" alt=\"Open In Colab\"/></a>"
      ]
    },
    {
      "cell_type": "code",
      "execution_count": 9,
      "metadata": {
        "colab": {
          "base_uri": "https://localhost:8080/"
        },
        "id": "1J0DkDjI8jjt",
        "outputId": "8c3d6f38-53c6-4dbb-9122-fdb3d10a14e6"
      },
      "outputs": [
        {
          "output_type": "stream",
          "name": "stdout",
          "text": [
            "Enter your guess: 1\n",
            "Too low! Try again.\n",
            "Enter your guess: 2\n",
            "Congratulations! You guessed the number in 2 attempts!\n",
            "Welcome to the Guess the Number Game!\n",
            "I'm thinking of a number between 1 and 5.\n"
          ]
        }
      ],
      "source": [
        "# project no:3\n",
        " #GUESS THE NUMBER GAME (USER)\n",
        "import random\n",
        "\n",
        "def guess_the_number():\n",
        "     print(\"Welcome to the Guess the Number Game!\")\n",
        "     print(\"I'm thinking of a number between 1 and 5.\")\n",
        "\n",
        "secret_number = random.randint(1, 5)\n",
        "\n",
        "attempts = 0\n",
        "guessed_correctly = False\n",
        "\n",
        "while not guessed_correctly:\n",
        "    try:\n",
        "             guess = int(input(\"Enter your guess: \"))\n",
        "    except ValueError:\n",
        "             print(\"Please enter a valid number.\")\n",
        "             continue\n",
        "\n",
        "    attempts += 1\n",
        "\n",
        "    if guess < secret_number:\n",
        "             print(\"Too low! Try again.\")\n",
        "    elif guess > secret_number:\n",
        "             print(\"Too high! Try again.\")\n",
        "    else:\n",
        "             guessed_correctly = True\n",
        "             print(f\"Congratulations! You guessed the number in {attempts} attempts!\")\n",
        "guess_the_number()"
      ]
    }
  ]
}