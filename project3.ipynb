{
  "nbformat": 4,
  "nbformat_minor": 0,
  "metadata": {
    "colab": {
      "provenance": [],
      "authorship_tag": "ABX9TyPDsLqFIuSbsiapJ7NKLBCM",
      "include_colab_link": true
    },
    "kernelspec": {
      "name": "python3",
      "display_name": "Python 3"
    },
    "language_info": {
      "name": "python"
    }
  },
  "cells": [
    {
      "cell_type": "markdown",
      "metadata": {
        "id": "view-in-github",
        "colab_type": "text"
      },
      "source": [
        "<a href=\"https://colab.research.google.com/github/maaz-irfan/project-3/blob/main/project3.ipynb\" target=\"_parent\"><img src=\"https://colab.research.google.com/assets/colab-badge.svg\" alt=\"Open In Colab\"/></a>"
      ]
    },
    {
      "cell_type": "code",
      "execution_count": 1,
      "metadata": {
        "colab": {
          "base_uri": "https://localhost:8080/"
        },
        "id": "1J0DkDjI8jjt",
        "outputId": "302f58b1-beef-495c-eb1e-7c2950003e4b"
      },
      "outputs": [
        {
          "output_type": "stream",
          "name": "stdout",
          "text": [
            "Is 6 too high (H), too low (L), or correct (C)?? l\n",
            "Is 8 too high (H), too low (L), or correct (C)?? h\n",
            "Is 7 too high (H), too low (L), or correct (C)?? c\n",
            "Yay! The computer guessed your number, 7, correctly!\n"
          ]
        }
      ],
      "source": [
        "def computer_guess(x):\n",
        "    low = 1\n",
        "    high = x\n",
        "    feedback = ''\n",
        "    while feedback != 'c':\n",
        "      if low != high :\n",
        "        guess = round((low + high) / 2)\n",
        "      else:\n",
        "        guess = low # could also be high b/c low = high\n",
        "\n",
        "      feedback = input(f'Is {guess} too high (H), too low (L), or correct (C)?? ').lower()\n",
        "      if feedback == 'h':\n",
        "        high = guess - 1\n",
        "      elif feedback == 'l':\n",
        "        low = guess + 1\n",
        "    print(f'Yay! The computer guessed your number, {guess}, correctly!')\n",
        "\n",
        "computer_guess(10)"
      ]
    },
    {
      "cell_type": "code",
      "source": [],
      "metadata": {
        "id": "i3A1UZn7gADO"
      },
      "execution_count": null,
      "outputs": []
    }
  ]
}